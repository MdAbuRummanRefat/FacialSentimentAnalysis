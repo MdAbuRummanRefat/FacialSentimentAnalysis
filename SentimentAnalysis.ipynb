{
  "nbformat": 4,
  "nbformat_minor": 0,
  "metadata": {
    "colab": {
      "name": "SentimentAnalysis.ipynb",
      "provenance": [],
      "include_colab_link": true
    },
    "kernelspec": {
      "name": "python3",
      "display_name": "Python 3"
    },
    "accelerator": "GPU"
  },
  "cells": [
    {
      "cell_type": "markdown",
      "metadata": {
        "id": "view-in-github",
        "colab_type": "text"
      },
      "source": [
        "<a href=\"https://colab.research.google.com/github/MdAbuRummanRefat/FacialSentimentAnalysis/blob/main/SentimentAnalysis.ipynb\" target=\"_parent\"><img src=\"https://colab.research.google.com/assets/colab-badge.svg\" alt=\"Open In Colab\"/></a>"
      ]
    },
    {
      "cell_type": "code",
      "metadata": {
        "id": "NqSL4Qcf980j",
        "outputId": "19f06985-0b27-49b6-ceeb-f1c1dd07e097",
        "colab": {
          "base_uri": "https://localhost:8080/",
          "height": 54
        }
      },
      "source": [
        "from google.colab import drive\n",
        "drive.mount('/content/drive')"
      ],
      "execution_count": null,
      "outputs": [
        {
          "output_type": "stream",
          "text": [
            "Drive already mounted at /content/drive; to attempt to forcibly remount, call drive.mount(\"/content/drive\", force_remount=True).\n"
          ],
          "name": "stdout"
        }
      ]
    },
    {
      "cell_type": "code",
      "metadata": {
        "id": "UwBIUsDnVsFV"
      },
      "source": [
        "#!pip install tensorflow==1.7.0\n",
        "#!pip install keras==2.1.5"
      ],
      "execution_count": null,
      "outputs": []
    },
    {
      "cell_type": "code",
      "metadata": {
        "id": "eQwUBNymKU1a",
        "outputId": "af8c11ef-5eaa-46e9-cc09-46c227e382ee",
        "colab": {
          "base_uri": "https://localhost:8080/",
          "height": 35
        }
      },
      "source": [
        "import tensorflow\n",
        "tensorflow.__version__"
      ],
      "execution_count": null,
      "outputs": [
        {
          "output_type": "execute_result",
          "data": {
            "application/vnd.google.colaboratory.intrinsic+json": {
              "type": "string"
            },
            "text/plain": [
              "'2.3.0'"
            ]
          },
          "metadata": {
            "tags": []
          },
          "execution_count": 3
        }
      ]
    },
    {
      "cell_type": "code",
      "metadata": {
        "id": "ltIjC5Zc_JdF"
      },
      "source": [
        "import pandas as pd\n",
        "import numpy as np\n",
        "import matplotlib.pyplot as plt"
      ],
      "execution_count": null,
      "outputs": []
    },
    {
      "cell_type": "code",
      "metadata": {
        "id": "0M98AreCPyaO",
        "outputId": "78125ef4-f1a7-4b6e-d03c-d09e9e26f859",
        "colab": {
          "base_uri": "https://localhost:8080/",
          "height": 204
        }
      },
      "source": [
        "data=pd.read_csv('/content/drive/My Drive/Project/fer2013.csv')\n",
        "data.head(5)"
      ],
      "execution_count": null,
      "outputs": [
        {
          "output_type": "execute_result",
          "data": {
            "text/html": [
              "<div>\n",
              "<style scoped>\n",
              "    .dataframe tbody tr th:only-of-type {\n",
              "        vertical-align: middle;\n",
              "    }\n",
              "\n",
              "    .dataframe tbody tr th {\n",
              "        vertical-align: top;\n",
              "    }\n",
              "\n",
              "    .dataframe thead th {\n",
              "        text-align: right;\n",
              "    }\n",
              "</style>\n",
              "<table border=\"1\" class=\"dataframe\">\n",
              "  <thead>\n",
              "    <tr style=\"text-align: right;\">\n",
              "      <th></th>\n",
              "      <th>emotion</th>\n",
              "      <th>pixels</th>\n",
              "      <th>Usage</th>\n",
              "    </tr>\n",
              "  </thead>\n",
              "  <tbody>\n",
              "    <tr>\n",
              "      <th>0</th>\n",
              "      <td>0</td>\n",
              "      <td>70 80 82 72 58 58 60 63 54 58 60 48 89 115 121...</td>\n",
              "      <td>Training</td>\n",
              "    </tr>\n",
              "    <tr>\n",
              "      <th>1</th>\n",
              "      <td>0</td>\n",
              "      <td>151 150 147 155 148 133 111 140 170 174 182 15...</td>\n",
              "      <td>Training</td>\n",
              "    </tr>\n",
              "    <tr>\n",
              "      <th>2</th>\n",
              "      <td>2</td>\n",
              "      <td>231 212 156 164 174 138 161 173 182 200 106 38...</td>\n",
              "      <td>Training</td>\n",
              "    </tr>\n",
              "    <tr>\n",
              "      <th>3</th>\n",
              "      <td>4</td>\n",
              "      <td>24 32 36 30 32 23 19 20 30 41 21 22 32 34 21 1...</td>\n",
              "      <td>Training</td>\n",
              "    </tr>\n",
              "    <tr>\n",
              "      <th>4</th>\n",
              "      <td>6</td>\n",
              "      <td>4 0 0 0 0 0 0 0 0 0 0 0 3 15 23 28 48 50 58 84...</td>\n",
              "      <td>Training</td>\n",
              "    </tr>\n",
              "  </tbody>\n",
              "</table>\n",
              "</div>"
            ],
            "text/plain": [
              "   emotion                                             pixels     Usage\n",
              "0        0  70 80 82 72 58 58 60 63 54 58 60 48 89 115 121...  Training\n",
              "1        0  151 150 147 155 148 133 111 140 170 174 182 15...  Training\n",
              "2        2  231 212 156 164 174 138 161 173 182 200 106 38...  Training\n",
              "3        4  24 32 36 30 32 23 19 20 30 41 21 22 32 34 21 1...  Training\n",
              "4        6  4 0 0 0 0 0 0 0 0 0 0 0 3 15 23 28 48 50 58 84...  Training"
            ]
          },
          "metadata": {
            "tags": []
          },
          "execution_count": 5
        }
      ]
    },
    {
      "cell_type": "code",
      "metadata": {
        "id": "td19KUE-Pyez",
        "outputId": "16e99864-b139-492b-d0df-30d9770db09e",
        "colab": {
          "base_uri": "https://localhost:8080/",
          "height": 266
        }
      },
      "source": [
        "labels = {0: 'Angry', 1: 'Digust', 2: 'Fear', 3: 'Happy', 4: 'Sad', 5: 'Surprise', 6: 'Neutral'}\n",
        "emotion_counts = data['emotion'].value_counts().reset_index()\n",
        "emotion_counts.columns = ['emotion', 'number']\n",
        "emotion_counts['emotion'] = emotion_counts['emotion'].map(labels)\n",
        "emotion_counts"
      ],
      "execution_count": null,
      "outputs": [
        {
          "output_type": "execute_result",
          "data": {
            "text/html": [
              "<div>\n",
              "<style scoped>\n",
              "    .dataframe tbody tr th:only-of-type {\n",
              "        vertical-align: middle;\n",
              "    }\n",
              "\n",
              "    .dataframe tbody tr th {\n",
              "        vertical-align: top;\n",
              "    }\n",
              "\n",
              "    .dataframe thead th {\n",
              "        text-align: right;\n",
              "    }\n",
              "</style>\n",
              "<table border=\"1\" class=\"dataframe\">\n",
              "  <thead>\n",
              "    <tr style=\"text-align: right;\">\n",
              "      <th></th>\n",
              "      <th>emotion</th>\n",
              "      <th>number</th>\n",
              "    </tr>\n",
              "  </thead>\n",
              "  <tbody>\n",
              "    <tr>\n",
              "      <th>0</th>\n",
              "      <td>Happy</td>\n",
              "      <td>8989</td>\n",
              "    </tr>\n",
              "    <tr>\n",
              "      <th>1</th>\n",
              "      <td>Neutral</td>\n",
              "      <td>6198</td>\n",
              "    </tr>\n",
              "    <tr>\n",
              "      <th>2</th>\n",
              "      <td>Sad</td>\n",
              "      <td>6077</td>\n",
              "    </tr>\n",
              "    <tr>\n",
              "      <th>3</th>\n",
              "      <td>Fear</td>\n",
              "      <td>5121</td>\n",
              "    </tr>\n",
              "    <tr>\n",
              "      <th>4</th>\n",
              "      <td>Angry</td>\n",
              "      <td>4953</td>\n",
              "    </tr>\n",
              "    <tr>\n",
              "      <th>5</th>\n",
              "      <td>Surprise</td>\n",
              "      <td>4002</td>\n",
              "    </tr>\n",
              "    <tr>\n",
              "      <th>6</th>\n",
              "      <td>Digust</td>\n",
              "      <td>547</td>\n",
              "    </tr>\n",
              "  </tbody>\n",
              "</table>\n",
              "</div>"
            ],
            "text/plain": [
              "    emotion  number\n",
              "0     Happy    8989\n",
              "1   Neutral    6198\n",
              "2       Sad    6077\n",
              "3      Fear    5121\n",
              "4     Angry    4953\n",
              "5  Surprise    4002\n",
              "6    Digust     547"
            ]
          },
          "metadata": {
            "tags": []
          },
          "execution_count": 6
        }
      ]
    },
    {
      "cell_type": "code",
      "metadata": {
        "id": "PkV-QNovPyYH",
        "outputId": "2719ace1-3b0d-4ab1-c15e-418c4f0ab8a8",
        "colab": {
          "base_uri": "https://localhost:8080/",
          "height": 554
        }
      },
      "source": [
        "def row2image(row):\n",
        "    pixels, emotion = row['pixels'], labels[row['emotion']]\n",
        "    img = np.array(pixels.split())\n",
        "    img = img.reshape(48,48)\n",
        "    image = np.zeros((48,48,3))\n",
        "    image[:,:,0] = img\n",
        "    image[:,:,1] = img\n",
        "    image[:,:,2] = img\n",
        "    return np.array([image.astype(np.uint8), emotion])\n",
        "\n",
        "plt.figure(0, figsize=(16,10))\n",
        "for i in range(1,8):\n",
        "    face = data[data['emotion'] == i-1].iloc[0]\n",
        "    img = row2image(face)\n",
        "    plt.subplot(2,4,i)\n",
        "    plt.imshow(img[0])\n",
        "    plt.title(img[1])\n",
        "\n",
        "plt.show()"
      ],
      "execution_count": null,
      "outputs": [
        {
          "output_type": "display_data",
          "data": {
            "image/png": "[encoded data removed]",
            "text/plain": [
              "<Figure size 1152x720 with 7 Axes>"
            ]
          },
          "metadata": {
            "tags": [],
            "needs_background": "light"
          }
        }
      ]
    },
    {
      "cell_type": "code",
      "metadata": {
        "id": "4tyT-kYQ95up"
      },
      "source": [
        "data_train = data[data['Usage']=='Training'].copy()\n",
        "data_val   = data[data['Usage']=='PublicTest'].copy()\n",
        "data_test  = data[data['Usage']=='PrivateTest'].copy()"
      ],
      "execution_count": null,
      "outputs": []
    },
    {
      "cell_type": "code",
      "metadata": {
        "id": "D5LTjLCOPyQ_"
      },
      "source": [
        "from keras.utils import to_categorical\n",
        "def pre_Processing(data):\n",
        "    temp = data.pixels.apply(lambda row: [float(p) for p in row.split()])\n",
        "    X = np.array(temp.tolist())\n",
        "    X = X.reshape(-1,1,48,48)\n",
        "    X = X/255.0\n",
        "    Y = to_categorical(data['emotion'], len(labels)) \n",
        "    return X,Y\n",
        "\n",
        "X_train,y_train = pre_Processing(data_train)\n",
        "X_test,y_test = pre_Processing(data_test)\n",
        "X_val,y_val = pre_Processing(data_val)"
      ],
      "execution_count": null,
      "outputs": []
    },
    {
      "cell_type": "code",
      "metadata": {
        "id": "h0PZuIUv-Tsh",
        "outputId": "588bca0b-1b94-4cc5-84ab-82504a829f79",
        "colab": {
          "base_uri": "https://localhost:8080/",
          "height": 68
        }
      },
      "source": [
        "X_train=X_train/255.0\n",
        "X_val=X_val/255.0\n",
        "X_test=X_test/255.0\n",
        "print(np.shape(X_train))\n",
        "print(np.shape(X_val))\n",
        "print(np.shape(X_test))"
      ],
      "execution_count": null,
      "outputs": [
        {
          "output_type": "stream",
          "text": [
            "(28709, 1, 48, 48)\n",
            "(3589, 1, 48, 48)\n",
            "(3589, 1, 48, 48)\n"
          ],
          "name": "stdout"
        }
      ]
    },
    {
      "cell_type": "code",
      "metadata": {
        "id": "SeA81DkISFJZ",
        "outputId": "9538c1c6-4bf3-421f-c827-9e1dba59acd1",
        "colab": {
          "base_uri": "https://localhost:8080/",
          "height": 1000
        }
      },
      "source": [
        "from keras.models import Sequential\n",
        "from keras.layers import Conv2D\n",
        "from keras.layers import BatchNormalization\n",
        "from keras.layers import MaxPooling2D\n",
        "from keras.layers import Activation\n",
        "from keras.optimizers import SGD , Adam,Adamax\n",
        "from keras.layers import Flatten\n",
        "from keras.layers import Dropout\n",
        "from keras.layers import Dense\n",
        "from keras.regularizers import l2\n",
        "from keras import backend as K\n",
        "K.set_image_data_format('channels_first')\n",
        "#K.set_image_dim_ordering('th')\n",
        "reg=0.0002\n",
        "channel_dimension=1\n",
        "classes=7\n",
        "\n",
        "model=Sequential()\n",
        "\n",
        "model.add(Conv2D(64, (3, 3), input_shape=(1,48,48), padding=\"same\", kernel_regularizer=l2(reg)))\n",
        "model.add(Activation(\"relu\"))\n",
        "model.add(Conv2D(64, (3, 3), padding=\"same\", kernel_regularizer=l2(reg)))\n",
        "model.add(Activation(\"relu\"))\n",
        "model.add(BatchNormalization(axis=channel_dimension))\n",
        "model.add(MaxPooling2D(pool_size=(2, 2), strides=(2, 2)))\n",
        "model.add(Dropout(0.35))\n",
        "\n",
        "model.add(Conv2D(128, (3, 3), padding=\"same\", kernel_regularizer=l2(reg)))\n",
        "model.add(Activation(\"relu\"))\n",
        "model.add(Conv2D(128, (3, 3), padding=\"same\", kernel_regularizer=l2(reg)))\n",
        "model.add(Activation(\"relu\"))\n",
        "model.add(BatchNormalization(axis=channel_dimension))\n",
        "model.add(MaxPooling2D(pool_size=(2, 2), strides=(2, 2)))\n",
        "model.add(Dropout(0.35))\n",
        "\n",
        "    \n",
        "model.add(Conv2D(256, (3, 3), dilation_rate=(2, 2),padding=\"same\", kernel_regularizer=l2(reg)))\n",
        "model.add(Activation(\"relu\"))\n",
        "model.add(Conv2D(256, (3, 3), padding=\"valid\", kernel_regularizer=l2(reg)))\n",
        "model.add(Activation(\"relu\"))\n",
        "model.add(BatchNormalization(axis=channel_dimension))\n",
        "model.add(MaxPooling2D(pool_size=(2, 2), strides=(2, 2)))\n",
        "model.add(Dropout(0.35))\n",
        "\n",
        "\n",
        "model.add(Conv2D(512, (3, 3),dilation_rate=(2, 2), padding=\"same\", kernel_regularizer=l2(reg)))\n",
        "model.add(Activation(\"relu\"))\n",
        "model.add(Conv2D(512, (3, 3), padding=\"valid\", kernel_regularizer=l2(reg)))\n",
        "model.add(Activation(\"relu\"))\n",
        "model.add(BatchNormalization(axis=channel_dimension))\n",
        "model.add(MaxPooling2D(pool_size=(2, 2), strides=(2, 2)))\n",
        "model.add(Dropout(0.35))\n",
        "        \n",
        "\n",
        "model.add(Flatten())\n",
        "model.add(Dense(64, kernel_regularizer=l2(reg)))\n",
        "model.add(Activation(\"relu\"))\n",
        "model.add(BatchNormalization(axis=channel_dimension))\n",
        "model.add(Dropout(0.35))\n",
        "\n",
        "model.add(Dense(classes, kernel_regularizer=l2(reg)))\n",
        "model.add(Activation(\"softmax\"))\n",
        "\n",
        "\n",
        "model.compile(loss='binary_crossentropy',\n",
        "              optimizer=Adam(lr=.001) ,\n",
        "              metrics=['accuracy'])\n",
        "\n",
        "model.summary()"
      ],
      "execution_count": null,
      "outputs": [
        {
          "output_type": "stream",
          "text": [
            "Model: \"sequential\"\n",
            "_________________________________________________________________\n",
            "Layer (type)                 Output Shape              Param #   \n",
            "=================================================================\n",
            "conv2d (Conv2D)              (None, 64, 48, 48)        640       \n",
            "_________________________________________________________________\n",
            "activation (Activation)      (None, 64, 48, 48)        0         \n",
            "_________________________________________________________________\n",
            "conv2d_1 (Conv2D)            (None, 64, 48, 48)        36928     \n",
            "_________________________________________________________________\n",
            "activation_1 (Activation)    (None, 64, 48, 48)        0         \n",
            "_________________________________________________________________\n",
            "batch_normalization (BatchNo (None, 64, 48, 48)        256       \n",
            "_________________________________________________________________\n",
            "max_pooling2d (MaxPooling2D) (None, 64, 24, 24)        0         \n",
            "_________________________________________________________________\n",
            "dropout (Dropout)            (None, 64, 24, 24)        0         \n",
            "_________________________________________________________________\n",
            "conv2d_2 (Conv2D)            (None, 128, 24, 24)       73856     \n",
            "_________________________________________________________________\n",
            "activation_2 (Activation)    (None, 128, 24, 24)       0         \n",
            "_________________________________________________________________\n",
            "conv2d_3 (Conv2D)            (None, 128, 24, 24)       147584    \n",
            "_________________________________________________________________\n",
            "activation_3 (Activation)    (None, 128, 24, 24)       0         \n",
            "_________________________________________________________________\n",
            "batch_normalization_1 (Batch (None, 128, 24, 24)       512       \n",
            "_________________________________________________________________\n",
            "max_pooling2d_1 (MaxPooling2 (None, 128, 12, 12)       0         \n",
            "_________________________________________________________________\n",
            "dropout_1 (Dropout)          (None, 128, 12, 12)       0         \n",
            "_________________________________________________________________\n",
            "conv2d_4 (Conv2D)            (None, 256, 12, 12)       295168    \n",
            "_________________________________________________________________\n",
            "activation_4 (Activation)    (None, 256, 12, 12)       0         \n",
            "_________________________________________________________________\n",
            "conv2d_5 (Conv2D)            (None, 256, 10, 10)       590080    \n",
            "_________________________________________________________________\n",
            "activation_5 (Activation)    (None, 256, 10, 10)       0         \n",
            "_________________________________________________________________\n",
            "batch_normalization_2 (Batch (None, 256, 10, 10)       1024      \n",
            "_________________________________________________________________\n",
            "max_pooling2d_2 (MaxPooling2 (None, 256, 5, 5)         0         \n",
            "_________________________________________________________________\n",
            "dropout_2 (Dropout)          (None, 256, 5, 5)         0         \n",
            "_________________________________________________________________\n",
            "conv2d_6 (Conv2D)            (None, 512, 5, 5)         1180160   \n",
            "_________________________________________________________________\n",
            "activation_6 (Activation)    (None, 512, 5, 5)         0         \n",
            "_________________________________________________________________\n",
            "conv2d_7 (Conv2D)            (None, 512, 3, 3)         2359808   \n",
            "_________________________________________________________________\n",
            "activation_7 (Activation)    (None, 512, 3, 3)         0         \n",
            "_________________________________________________________________\n",
            "batch_normalization_3 (Batch (None, 512, 3, 3)         2048      \n",
            "_________________________________________________________________\n",
            "max_pooling2d_3 (MaxPooling2 (None, 512, 1, 1)         0         \n",
            "_________________________________________________________________\n",
            "dropout_3 (Dropout)          (None, 512, 1, 1)         0         \n",
            "_________________________________________________________________\n",
            "flatten (Flatten)            (None, 512)               0         \n",
            "_________________________________________________________________\n",
            "dense (Dense)                (None, 64)                32832     \n",
            "_________________________________________________________________\n",
            "activation_8 (Activation)    (None, 64)                0         \n",
            "_________________________________________________________________\n",
            "batch_normalization_4 (Batch (None, 64)                256       \n",
            "_________________________________________________________________\n",
            "dropout_4 (Dropout)          (None, 64)                0         \n",
            "_________________________________________________________________\n",
            "dense_1 (Dense)              (None, 7)                 455       \n",
            "_________________________________________________________________\n",
            "activation_9 (Activation)    (None, 7)                 0         \n",
            "=================================================================\n",
            "Total params: 4,721,607\n",
            "Trainable params: 4,719,559\n",
            "Non-trainable params: 2,048\n",
            "_________________________________________________________________\n"
          ],
          "name": "stdout"
        }
      ]
    },
    {
      "cell_type": "code",
      "metadata": {
        "id": "MceXzrIV-hYt"
      },
      "source": [
        "batch_size = 64\n",
        "epochs = 200\n",
        "\n",
        "model.compile(loss='binary_crossentropy',\n",
        "              optimizer=Adam(lr=.001) ,\n",
        "              metrics=['accuracy'])\n",
        "steps_per_epoch =len(X_train) // batch_size\n",
        "validation_steps = len((X_val, y_val)) // batch_size"
      ],
      "execution_count": null,
      "outputs": []
    },
    {
      "cell_type": "code",
      "metadata": {
        "id": "IacTchC1_w-Y"
      },
      "source": [
        "from keras.preprocessing.image import ImageDataGenerator\n",
        "# data generator\n",
        "datagen = ImageDataGenerator(\n",
        "        featurewise_center=False,  \n",
        "        samplewise_center=False,  \n",
        "        featurewise_std_normalization=False,  \n",
        "        samplewise_std_normalization=False,  \n",
        "        zca_whitening=False,  \n",
        "        rotation_range=10,  \n",
        "        zoom_range = 0.0,  \n",
        "        width_shift_range=0.1,  \n",
        "        height_shift_range=0.1,  \n",
        "        horizontal_flip=False, \n",
        "        vertical_flip=False)  \n",
        "datagen.fit(X_train)"
      ],
      "execution_count": null,
      "outputs": []
    },
    {
      "cell_type": "code",
      "metadata": {
        "id": "X9u4UubBBlIj",
        "outputId": "d07dbb1f-94ce-493d-d715-d8fc22e857f6",
        "colab": {
          "base_uri": "https://localhost:8080/",
          "height": 34
        }
      },
      "source": [
        "\n",
        "from keras.callbacks import CSVLogger, ModelCheckpoint, EarlyStopping\n",
        "from keras.callbacks import ReduceLROnPlateau\n",
        "\n",
        "lr_reduce = ReduceLROnPlateau(monitor='val_accuracy',patience=3, factor=0.5,\n",
        "                              verbose=1,min_lr=.000005,epsilon=0.0005, )"
      ],
      "execution_count": null,
      "outputs": [
        {
          "output_type": "stream",
          "text": [
            "WARNING:tensorflow:`epsilon` argument is deprecated and will be removed, use `min_delta` instead.\n"
          ],
          "name": "stdout"
        }
      ]
    },
    {
      "cell_type": "code",
      "metadata": {
        "id": "mry-HtEaCXAj",
        "outputId": "c2b655dd-dd05-429a-db5e-faf7cf0107fc",
        "colab": {
          "base_uri": "https://localhost:8080/",
          "height": 1000
        }
      },
      "source": [
        "history = model.fit_generator(datagen.flow(X_train, y_train, batch_size=batch_size),\n",
        "                    steps_per_epoch=len(X_train) // batch_size,\n",
        "                    callbacks=[lr_reduce],\n",
        "                    validation_data=(X_val, y_val),\n",
        "                    epochs = epochs, verbose = 2)"
      ],
      "execution_count": null,
      "outputs": [
        {
          "output_type": "stream",
          "text": [
            "WARNING:tensorflow:From <ipython-input-15-8195c0ee7f92>:5: Model.fit_generator (from tensorflow.python.keras.engine.training) is deprecated and will be removed in a future version.\n",
            "Instructions for updating:\n",
            "Please use Model.fit, which supports generators.\n",
            "Epoch 1/200\n",
            "448/448 - 20s - loss: 0.7189 - accuracy: 0.2311 - val_loss: 0.4395 - val_accuracy: 0.1301\n",
            "Epoch 2/200\n",
            "448/448 - 20s - loss: 0.4182 - accuracy: 0.2498 - val_loss: 0.4159 - val_accuracy: 0.2494\n",
            "Epoch 3/200\n",
            "448/448 - 20s - loss: 0.4124 - accuracy: 0.2716 - val_loss: 0.4420 - val_accuracy: 0.2494\n",
            "Epoch 4/200\n",
            "448/448 - 20s - loss: 0.4134 - accuracy: 0.2945 - val_loss: 0.5578 - val_accuracy: 0.1301\n",
            "Epoch 5/200\n",
            "\n",
            "Epoch 00005: ReduceLROnPlateau reducing learning rate to 0.0024999999441206455.\n",
            "448/448 - 20s - loss: 0.4103 - accuracy: 0.3064 - val_loss: 1.6004 - val_accuracy: 0.1301\n",
            "Epoch 6/200\n",
            "448/448 - 20s - loss: 0.3896 - accuracy: 0.3510 - val_loss: 0.5231 - val_accuracy: 0.2494\n",
            "Epoch 7/200\n",
            "448/448 - 20s - loss: 0.3878 - accuracy: 0.3700 - val_loss: 1.1490 - val_accuracy: 0.1301\n",
            "Epoch 8/200\n",
            "\n",
            "Epoch 00008: ReduceLROnPlateau reducing learning rate to 0.0012499999720603228.\n",
            "448/448 - 20s - loss: 0.3874 - accuracy: 0.3944 - val_loss: 0.4706 - val_accuracy: 0.1819\n",
            "Epoch 9/200\n",
            "448/448 - 20s - loss: 0.3605 - accuracy: 0.4260 - val_loss: 0.4966 - val_accuracy: 0.1365\n",
            "Epoch 10/200\n",
            "448/448 - 20s - loss: 0.3505 - accuracy: 0.4549 - val_loss: 0.4944 - val_accuracy: 0.1819\n",
            "Epoch 11/200\n",
            "\n",
            "Epoch 00011: ReduceLROnPlateau reducing learning rate to 0.0006249999860301614.\n",
            "448/448 - 20s - loss: 0.3468 - accuracy: 0.4680 - val_loss: 0.5325 - val_accuracy: 0.1856\n",
            "Epoch 12/200\n",
            "448/448 - 20s - loss: 0.3329 - accuracy: 0.4922 - val_loss: 0.4017 - val_accuracy: 0.3380\n",
            "Epoch 13/200\n",
            "448/448 - 20s - loss: 0.3239 - accuracy: 0.5019 - val_loss: 0.3737 - val_accuracy: 0.3892\n",
            "Epoch 14/200\n",
            "448/448 - 20s - loss: 0.3205 - accuracy: 0.5071 - val_loss: 0.3627 - val_accuracy: 0.4413\n",
            "Epoch 15/200\n",
            "448/448 - 20s - loss: 0.3174 - accuracy: 0.5123 - val_loss: 0.3447 - val_accuracy: 0.4492\n",
            "Epoch 16/200\n",
            "448/448 - 20s - loss: 0.3144 - accuracy: 0.5248 - val_loss: 0.5374 - val_accuracy: 0.1438\n",
            "Epoch 17/200\n",
            "448/448 - 20s - loss: 0.3120 - accuracy: 0.5263 - val_loss: 0.4400 - val_accuracy: 0.2424\n",
            "Epoch 18/200\n",
            "\n",
            "Epoch 00018: ReduceLROnPlateau reducing learning rate to 0.0003124999930150807.\n",
            "448/448 - 19s - loss: 0.3091 - accuracy: 0.5335 - val_loss: 0.3630 - val_accuracy: 0.4430\n",
            "Epoch 19/200\n",
            "448/448 - 20s - loss: 0.3014 - accuracy: 0.5495 - val_loss: 0.3086 - val_accuracy: 0.5294\n",
            "Epoch 20/200\n",
            "448/448 - 20s - loss: 0.2983 - accuracy: 0.5521 - val_loss: 0.3620 - val_accuracy: 0.4322\n",
            "Epoch 21/200\n",
            "448/448 - 20s - loss: 0.2949 - accuracy: 0.5556 - val_loss: 0.2991 - val_accuracy: 0.5447\n",
            "Epoch 22/200\n",
            "448/448 - 20s - loss: 0.2928 - accuracy: 0.5646 - val_loss: 0.4413 - val_accuracy: 0.2569\n",
            "Epoch 23/200\n",
            "448/448 - 20s - loss: 0.2906 - accuracy: 0.5644 - val_loss: 0.4458 - val_accuracy: 0.2781\n",
            "Epoch 24/200\n",
            "\n",
            "Epoch 00024: ReduceLROnPlateau reducing learning rate to 0.00015624999650754035.\n",
            "448/448 - 20s - loss: 0.2886 - accuracy: 0.5667 - val_loss: 0.4100 - val_accuracy: 0.3761\n",
            "Epoch 25/200\n",
            "448/448 - 20s - loss: 0.2832 - accuracy: 0.5787 - val_loss: 0.3606 - val_accuracy: 0.4210\n",
            "Epoch 26/200\n",
            "448/448 - 19s - loss: 0.2822 - accuracy: 0.5810 - val_loss: 0.3299 - val_accuracy: 0.4854\n",
            "Epoch 27/200\n",
            "\n",
            "Epoch 00027: ReduceLROnPlateau reducing learning rate to 7.812499825377017e-05.\n",
            "448/448 - 20s - loss: 0.2787 - accuracy: 0.5871 - val_loss: 0.3104 - val_accuracy: 0.5302\n",
            "Epoch 28/200\n",
            "448/448 - 20s - loss: 0.2764 - accuracy: 0.5890 - val_loss: 0.2792 - val_accuracy: 0.5812\n",
            "Epoch 29/200\n",
            "448/448 - 19s - loss: 0.2767 - accuracy: 0.5864 - val_loss: 0.2821 - val_accuracy: 0.5793\n",
            "Epoch 30/200\n",
            "448/448 - 20s - loss: 0.2737 - accuracy: 0.5961 - val_loss: 0.3349 - val_accuracy: 0.4751\n",
            "Epoch 31/200\n",
            "448/448 - 20s - loss: 0.2732 - accuracy: 0.5965 - val_loss: 0.2715 - val_accuracy: 0.6010\n",
            "Epoch 32/200\n",
            "448/448 - 20s - loss: 0.2714 - accuracy: 0.6000 - val_loss: 0.3255 - val_accuracy: 0.4884\n",
            "Epoch 33/200\n",
            "448/448 - 19s - loss: 0.2711 - accuracy: 0.5985 - val_loss: 0.2843 - val_accuracy: 0.5726\n",
            "Epoch 34/200\n",
            "\n",
            "Epoch 00034: ReduceLROnPlateau reducing learning rate to 3.9062499126885086e-05.\n",
            "448/448 - 20s - loss: 0.2705 - accuracy: 0.6024 - val_loss: 0.2742 - val_accuracy: 0.5926\n",
            "Epoch 35/200\n",
            "448/448 - 19s - loss: 0.2684 - accuracy: 0.6045 - val_loss: 0.2934 - val_accuracy: 0.5522\n",
            "Epoch 36/200\n",
            "448/448 - 20s - loss: 0.2670 - accuracy: 0.6088 - val_loss: 0.2984 - val_accuracy: 0.5422\n",
            "Epoch 37/200\n",
            "\n",
            "Epoch 00037: ReduceLROnPlateau reducing learning rate to 1.9531249563442543e-05.\n",
            "448/448 - 20s - loss: 0.2663 - accuracy: 0.6087 - val_loss: 0.2794 - val_accuracy: 0.5793\n",
            "Epoch 38/200\n",
            "448/448 - 20s - loss: 0.2663 - accuracy: 0.6091 - val_loss: 0.2698 - val_accuracy: 0.5954\n",
            "Epoch 39/200\n",
            "448/448 - 20s - loss: 0.2653 - accuracy: 0.6121 - val_loss: 0.2648 - val_accuracy: 0.6088\n",
            "Epoch 40/200\n",
            "448/448 - 20s - loss: 0.2647 - accuracy: 0.6138 - val_loss: 0.2733 - val_accuracy: 0.5896\n",
            "Epoch 41/200\n",
            "448/448 - 20s - loss: 0.2647 - accuracy: 0.6155 - val_loss: 0.2683 - val_accuracy: 0.6057\n",
            "Epoch 42/200\n",
            "\n",
            "Epoch 00042: ReduceLROnPlateau reducing learning rate to 9.765624781721272e-06.\n",
            "448/448 - 20s - loss: 0.2639 - accuracy: 0.6130 - val_loss: 0.2749 - val_accuracy: 0.5865\n",
            "Epoch 43/200\n",
            "448/448 - 20s - loss: 0.2645 - accuracy: 0.6110 - val_loss: 0.2663 - val_accuracy: 0.6055\n",
            "Epoch 44/200\n",
            "448/448 - 20s - loss: 0.2626 - accuracy: 0.6152 - val_loss: 0.2676 - val_accuracy: 0.6032\n",
            "Epoch 45/200\n",
            "448/448 - 20s - loss: 0.2626 - accuracy: 0.6149 - val_loss: 0.2653 - val_accuracy: 0.6124\n",
            "Epoch 46/200\n",
            "448/448 - 20s - loss: 0.2634 - accuracy: 0.6156 - val_loss: 0.2657 - val_accuracy: 0.6085\n",
            "Epoch 47/200\n",
            "448/448 - 20s - loss: 0.2631 - accuracy: 0.6153 - val_loss: 0.2686 - val_accuracy: 0.5996\n",
            "Epoch 48/200\n",
            "\n",
            "Epoch 00048: ReduceLROnPlateau reducing learning rate to 5e-06.\n",
            "448/448 - 19s - loss: 0.2621 - accuracy: 0.6179 - val_loss: 0.2653 - val_accuracy: 0.6108\n",
            "Epoch 49/200\n",
            "448/448 - 20s - loss: 0.2629 - accuracy: 0.6128 - val_loss: 0.2644 - val_accuracy: 0.6099\n",
            "Epoch 50/200\n",
            "448/448 - 19s - loss: 0.2626 - accuracy: 0.6166 - val_loss: 0.2644 - val_accuracy: 0.6099\n",
            "Epoch 51/200\n",
            "448/448 - 19s - loss: 0.2633 - accuracy: 0.6121 - val_loss: 0.2664 - val_accuracy: 0.6082\n",
            "Epoch 52/200\n",
            "448/448 - 19s - loss: 0.2622 - accuracy: 0.6162 - val_loss: 0.2663 - val_accuracy: 0.6069\n",
            "Epoch 53/200\n",
            "448/448 - 20s - loss: 0.2626 - accuracy: 0.6161 - val_loss: 0.2644 - val_accuracy: 0.6102\n",
            "Epoch 54/200\n",
            "448/448 - 19s - loss: 0.2630 - accuracy: 0.6132 - val_loss: 0.2655 - val_accuracy: 0.6060\n",
            "Epoch 55/200\n",
            "448/448 - 20s - loss: 0.2614 - accuracy: 0.6217 - val_loss: 0.2646 - val_accuracy: 0.6124\n",
            "Epoch 56/200\n",
            "448/448 - 20s - loss: 0.2633 - accuracy: 0.6102 - val_loss: 0.2642 - val_accuracy: 0.6113\n",
            "Epoch 57/200\n",
            "448/448 - 20s - loss: 0.2624 - accuracy: 0.6156 - val_loss: 0.2649 - val_accuracy: 0.6119\n",
            "Epoch 58/200\n",
            "448/448 - 19s - loss: 0.2632 - accuracy: 0.6132 - val_loss: 0.2653 - val_accuracy: 0.6105\n",
            "Epoch 59/200\n",
            "448/448 - 20s - loss: 0.2619 - accuracy: 0.6172 - val_loss: 0.2638 - val_accuracy: 0.6152\n",
            "Epoch 60/200\n",
            "448/448 - 19s - loss: 0.2620 - accuracy: 0.6163 - val_loss: 0.2659 - val_accuracy: 0.6080\n",
            "Epoch 61/200\n",
            "448/448 - 20s - loss: 0.2612 - accuracy: 0.6184 - val_loss: 0.2681 - val_accuracy: 0.6046\n",
            "Epoch 62/200\n",
            "448/448 - 20s - loss: 0.2612 - accuracy: 0.6166 - val_loss: 0.2662 - val_accuracy: 0.6074\n",
            "Epoch 63/200\n",
            "448/448 - 20s - loss: 0.2613 - accuracy: 0.6207 - val_loss: 0.2659 - val_accuracy: 0.6041\n",
            "Epoch 64/200\n",
            "448/448 - 20s - loss: 0.2623 - accuracy: 0.6160 - val_loss: 0.2647 - val_accuracy: 0.6088\n",
            "Epoch 65/200\n",
            "448/448 - 20s - loss: 0.2624 - accuracy: 0.6165 - val_loss: 0.2647 - val_accuracy: 0.6080\n",
            "Epoch 66/200\n",
            "448/448 - 20s - loss: 0.2626 - accuracy: 0.6146 - val_loss: 0.2643 - val_accuracy: 0.6108\n",
            "Epoch 67/200\n",
            "448/448 - 20s - loss: 0.2614 - accuracy: 0.6223 - val_loss: 0.2645 - val_accuracy: 0.6105\n",
            "Epoch 68/200\n",
            "448/448 - 20s - loss: 0.2615 - accuracy: 0.6176 - val_loss: 0.2659 - val_accuracy: 0.6077\n",
            "Epoch 69/200\n",
            "448/448 - 20s - loss: 0.2618 - accuracy: 0.6178 - val_loss: 0.2658 - val_accuracy: 0.6105\n",
            "Epoch 70/200\n",
            "448/448 - 20s - loss: 0.2624 - accuracy: 0.6147 - val_loss: 0.2657 - val_accuracy: 0.6069\n",
            "Epoch 71/200\n",
            "448/448 - 19s - loss: 0.2612 - accuracy: 0.6183 - val_loss: 0.2641 - val_accuracy: 0.6102\n",
            "Epoch 72/200\n",
            "448/448 - 20s - loss: 0.2625 - accuracy: 0.6154 - val_loss: 0.2671 - val_accuracy: 0.6049\n",
            "Epoch 73/200\n",
            "448/448 - 20s - loss: 0.2606 - accuracy: 0.6207 - val_loss: 0.2683 - val_accuracy: 0.6030\n",
            "Epoch 74/200\n",
            "448/448 - 20s - loss: 0.2604 - accuracy: 0.6208 - val_loss: 0.2672 - val_accuracy: 0.6063\n",
            "Epoch 75/200\n",
            "448/448 - 20s - loss: 0.2601 - accuracy: 0.6220 - val_loss: 0.2651 - val_accuracy: 0.6071\n",
            "Epoch 76/200\n",
            "448/448 - 20s - loss: 0.2606 - accuracy: 0.6160 - val_loss: 0.2663 - val_accuracy: 0.6071\n",
            "Epoch 77/200\n",
            "448/448 - 20s - loss: 0.2612 - accuracy: 0.6191 - val_loss: 0.2688 - val_accuracy: 0.6021\n",
            "Epoch 78/200\n",
            "448/448 - 20s - loss: 0.2600 - accuracy: 0.6201 - val_loss: 0.2698 - val_accuracy: 0.6004\n",
            "Epoch 79/200\n",
            "448/448 - 20s - loss: 0.2602 - accuracy: 0.6190 - val_loss: 0.2643 - val_accuracy: 0.6060\n",
            "Epoch 80/200\n",
            "448/448 - 20s - loss: 0.2618 - accuracy: 0.6146 - val_loss: 0.2638 - val_accuracy: 0.6130\n",
            "Epoch 81/200\n",
            "448/448 - 20s - loss: 0.2610 - accuracy: 0.6139 - val_loss: 0.2626 - val_accuracy: 0.6147\n",
            "Epoch 82/200\n",
            "448/448 - 20s - loss: 0.2602 - accuracy: 0.6205 - val_loss: 0.2650 - val_accuracy: 0.6099\n",
            "Epoch 83/200\n",
            "448/448 - 20s - loss: 0.2596 - accuracy: 0.6244 - val_loss: 0.2649 - val_accuracy: 0.6099\n",
            "Epoch 84/200\n",
            "448/448 - 20s - loss: 0.2608 - accuracy: 0.6197 - val_loss: 0.2640 - val_accuracy: 0.6133\n",
            "Epoch 85/200\n",
            "448/448 - 20s - loss: 0.2610 - accuracy: 0.6168 - val_loss: 0.2627 - val_accuracy: 0.6144\n",
            "Epoch 86/200\n",
            "448/448 - 20s - loss: 0.2616 - accuracy: 0.6191 - val_loss: 0.2632 - val_accuracy: 0.6127\n",
            "Epoch 87/200\n",
            "448/448 - 20s - loss: 0.2602 - accuracy: 0.6198 - val_loss: 0.2650 - val_accuracy: 0.6077\n",
            "Epoch 88/200\n",
            "448/448 - 20s - loss: 0.2598 - accuracy: 0.6235 - val_loss: 0.2653 - val_accuracy: 0.6074\n",
            "Epoch 89/200\n",
            "448/448 - 20s - loss: 0.2600 - accuracy: 0.6198 - val_loss: 0.2630 - val_accuracy: 0.6119\n",
            "Epoch 90/200\n",
            "448/448 - 20s - loss: 0.2592 - accuracy: 0.6216 - val_loss: 0.2645 - val_accuracy: 0.6105\n",
            "Epoch 91/200\n",
            "448/448 - 20s - loss: 0.2599 - accuracy: 0.6195 - val_loss: 0.2634 - val_accuracy: 0.6116\n",
            "Epoch 92/200\n",
            "448/448 - 20s - loss: 0.2590 - accuracy: 0.6222 - val_loss: 0.2665 - val_accuracy: 0.6035\n",
            "Epoch 93/200\n",
            "448/448 - 20s - loss: 0.2589 - accuracy: 0.6231 - val_loss: 0.2650 - val_accuracy: 0.6094\n",
            "Epoch 94/200\n",
            "448/448 - 20s - loss: 0.2593 - accuracy: 0.6210 - val_loss: 0.2643 - val_accuracy: 0.6124\n",
            "Epoch 95/200\n",
            "448/448 - 20s - loss: 0.2604 - accuracy: 0.6204 - val_loss: 0.2635 - val_accuracy: 0.6113\n",
            "Epoch 96/200\n",
            "448/448 - 20s - loss: 0.2588 - accuracy: 0.6200 - val_loss: 0.2653 - val_accuracy: 0.6049\n",
            "Epoch 97/200\n",
            "448/448 - 20s - loss: 0.2596 - accuracy: 0.6187 - val_loss: 0.2620 - val_accuracy: 0.6160\n",
            "Epoch 98/200\n",
            "448/448 - 20s - loss: 0.2588 - accuracy: 0.6217 - val_loss: 0.2635 - val_accuracy: 0.6116\n",
            "Epoch 99/200\n",
            "448/448 - 20s - loss: 0.2587 - accuracy: 0.6234 - val_loss: 0.2644 - val_accuracy: 0.6094\n",
            "Epoch 100/200\n",
            "448/448 - 20s - loss: 0.2601 - accuracy: 0.6199 - val_loss: 0.2643 - val_accuracy: 0.6121\n",
            "Epoch 101/200\n",
            "448/448 - 20s - loss: 0.2592 - accuracy: 0.6212 - val_loss: 0.2635 - val_accuracy: 0.6141\n",
            "Epoch 102/200\n",
            "448/448 - 20s - loss: 0.2590 - accuracy: 0.6216 - val_loss: 0.2653 - val_accuracy: 0.6074\n",
            "Epoch 103/200\n",
            "448/448 - 20s - loss: 0.2602 - accuracy: 0.6227 - val_loss: 0.2640 - val_accuracy: 0.6108\n",
            "Epoch 104/200\n",
            "448/448 - 20s - loss: 0.2587 - accuracy: 0.6262 - val_loss: 0.2628 - val_accuracy: 0.6138\n",
            "Epoch 105/200\n",
            "448/448 - 20s - loss: 0.2606 - accuracy: 0.6185 - val_loss: 0.2618 - val_accuracy: 0.6158\n",
            "Epoch 106/200\n",
            "448/448 - 20s - loss: 0.2585 - accuracy: 0.6233 - val_loss: 0.2628 - val_accuracy: 0.6124\n",
            "Epoch 107/200\n",
            "448/448 - 20s - loss: 0.2585 - accuracy: 0.6233 - val_loss: 0.2639 - val_accuracy: 0.6110\n",
            "Epoch 108/200\n",
            "448/448 - 20s - loss: 0.2590 - accuracy: 0.6259 - val_loss: 0.2644 - val_accuracy: 0.6057\n",
            "Epoch 109/200\n",
            "448/448 - 20s - loss: 0.2589 - accuracy: 0.6222 - val_loss: 0.2669 - val_accuracy: 0.6030\n",
            "Epoch 110/200\n",
            "448/448 - 20s - loss: 0.2586 - accuracy: 0.6222 - val_loss: 0.2637 - val_accuracy: 0.6099\n",
            "Epoch 111/200\n",
            "448/448 - 20s - loss: 0.2591 - accuracy: 0.6213 - val_loss: 0.2620 - val_accuracy: 0.6130\n",
            "Epoch 112/200\n",
            "448/448 - 20s - loss: 0.2573 - accuracy: 0.6281 - val_loss: 0.2642 - val_accuracy: 0.6088\n",
            "Epoch 113/200\n",
            "448/448 - 20s - loss: 0.2580 - accuracy: 0.6236 - val_loss: 0.2641 - val_accuracy: 0.6119\n",
            "Epoch 114/200\n",
            "448/448 - 20s - loss: 0.2594 - accuracy: 0.6201 - val_loss: 0.2641 - val_accuracy: 0.6091\n",
            "Epoch 115/200\n",
            "448/448 - 20s - loss: 0.2590 - accuracy: 0.6204 - val_loss: 0.2627 - val_accuracy: 0.6119\n",
            "Epoch 116/200\n",
            "448/448 - 20s - loss: 0.2581 - accuracy: 0.6228 - val_loss: 0.2630 - val_accuracy: 0.6110\n",
            "Epoch 117/200\n",
            "448/448 - 20s - loss: 0.2595 - accuracy: 0.6212 - val_loss: 0.2648 - val_accuracy: 0.6105\n",
            "Epoch 118/200\n",
            "448/448 - 20s - loss: 0.2583 - accuracy: 0.6215 - val_loss: 0.2642 - val_accuracy: 0.6077\n",
            "Epoch 119/200\n",
            "448/448 - 20s - loss: 0.2579 - accuracy: 0.6270 - val_loss: 0.2625 - val_accuracy: 0.6121\n",
            "Epoch 120/200\n",
            "448/448 - 20s - loss: 0.2584 - accuracy: 0.6235 - val_loss: 0.2664 - val_accuracy: 0.6055\n",
            "Epoch 121/200\n",
            "448/448 - 20s - loss: 0.2579 - accuracy: 0.6253 - val_loss: 0.2632 - val_accuracy: 0.6121\n",
            "Epoch 122/200\n",
            "448/448 - 20s - loss: 0.2582 - accuracy: 0.6220 - val_loss: 0.2637 - val_accuracy: 0.6113\n",
            "Epoch 123/200\n",
            "448/448 - 20s - loss: 0.2589 - accuracy: 0.6222 - val_loss: 0.2639 - val_accuracy: 0.6080\n",
            "Epoch 124/200\n",
            "448/448 - 20s - loss: 0.2576 - accuracy: 0.6221 - val_loss: 0.2641 - val_accuracy: 0.6119\n",
            "Epoch 125/200\n",
            "448/448 - 20s - loss: 0.2584 - accuracy: 0.6208 - val_loss: 0.2619 - val_accuracy: 0.6166\n",
            "Epoch 126/200\n",
            "448/448 - 20s - loss: 0.2579 - accuracy: 0.6246 - val_loss: 0.2618 - val_accuracy: 0.6135\n",
            "Epoch 127/200\n",
            "448/448 - 20s - loss: 0.2585 - accuracy: 0.6219 - val_loss: 0.2613 - val_accuracy: 0.6172\n",
            "Epoch 128/200\n",
            "448/448 - 20s - loss: 0.2570 - accuracy: 0.6276 - val_loss: 0.2617 - val_accuracy: 0.6124\n",
            "Epoch 129/200\n",
            "448/448 - 20s - loss: 0.2579 - accuracy: 0.6228 - val_loss: 0.2619 - val_accuracy: 0.6124\n",
            "Epoch 130/200\n",
            "448/448 - 20s - loss: 0.2568 - accuracy: 0.6241 - val_loss: 0.2653 - val_accuracy: 0.6041\n",
            "Epoch 131/200\n",
            "448/448 - 20s - loss: 0.2574 - accuracy: 0.6251 - val_loss: 0.2620 - val_accuracy: 0.6116\n",
            "Epoch 132/200\n",
            "448/448 - 20s - loss: 0.2582 - accuracy: 0.6230 - val_loss: 0.2618 - val_accuracy: 0.6124\n",
            "Epoch 133/200\n",
            "448/448 - 20s - loss: 0.2582 - accuracy: 0.6240 - val_loss: 0.2621 - val_accuracy: 0.6116\n",
            "Epoch 134/200\n",
            "448/448 - 20s - loss: 0.2571 - accuracy: 0.6236 - val_loss: 0.2640 - val_accuracy: 0.6060\n",
            "Epoch 135/200\n",
            "448/448 - 20s - loss: 0.2561 - accuracy: 0.6288 - val_loss: 0.2658 - val_accuracy: 0.6057\n",
            "Epoch 136/200\n",
            "448/448 - 20s - loss: 0.2577 - accuracy: 0.6246 - val_loss: 0.2614 - val_accuracy: 0.6155\n",
            "Epoch 137/200\n",
            "448/448 - 20s - loss: 0.2570 - accuracy: 0.6242 - val_loss: 0.2646 - val_accuracy: 0.6041\n",
            "Epoch 138/200\n",
            "448/448 - 20s - loss: 0.2570 - accuracy: 0.6261 - val_loss: 0.2614 - val_accuracy: 0.6152\n",
            "Epoch 139/200\n",
            "448/448 - 20s - loss: 0.2573 - accuracy: 0.6243 - val_loss: 0.2612 - val_accuracy: 0.6158\n",
            "Epoch 140/200\n",
            "448/448 - 20s - loss: 0.2578 - accuracy: 0.6258 - val_loss: 0.2618 - val_accuracy: 0.6119\n",
            "Epoch 141/200\n",
            "448/448 - 20s - loss: 0.2578 - accuracy: 0.6244 - val_loss: 0.2620 - val_accuracy: 0.6127\n",
            "Epoch 142/200\n",
            "448/448 - 20s - loss: 0.2569 - accuracy: 0.6236 - val_loss: 0.2616 - val_accuracy: 0.6133\n",
            "Epoch 143/200\n",
            "448/448 - 20s - loss: 0.2576 - accuracy: 0.6210 - val_loss: 0.2622 - val_accuracy: 0.6135\n",
            "Epoch 144/200\n",
            "448/448 - 20s - loss: 0.2566 - accuracy: 0.6241 - val_loss: 0.2655 - val_accuracy: 0.6043\n",
            "Epoch 145/200\n",
            "448/448 - 20s - loss: 0.2571 - accuracy: 0.6253 - val_loss: 0.2618 - val_accuracy: 0.6099\n",
            "Epoch 146/200\n",
            "448/448 - 20s - loss: 0.2569 - accuracy: 0.6267 - val_loss: 0.2630 - val_accuracy: 0.6080\n",
            "Epoch 147/200\n",
            "448/448 - 20s - loss: 0.2574 - accuracy: 0.6254 - val_loss: 0.2634 - val_accuracy: 0.6080\n",
            "Epoch 148/200\n",
            "448/448 - 20s - loss: 0.2565 - accuracy: 0.6257 - val_loss: 0.2637 - val_accuracy: 0.6063\n",
            "Epoch 149/200\n",
            "448/448 - 20s - loss: 0.2565 - accuracy: 0.6277 - val_loss: 0.2615 - val_accuracy: 0.6155\n",
            "Epoch 150/200\n",
            "448/448 - 20s - loss: 0.2568 - accuracy: 0.6255 - val_loss: 0.2606 - val_accuracy: 0.6169\n",
            "Epoch 151/200\n",
            "448/448 - 20s - loss: 0.2567 - accuracy: 0.6279 - val_loss: 0.2642 - val_accuracy: 0.6094\n",
            "Epoch 152/200\n",
            "448/448 - 20s - loss: 0.2555 - accuracy: 0.6260 - val_loss: 0.2637 - val_accuracy: 0.6077\n",
            "Epoch 153/200\n",
            "448/448 - 20s - loss: 0.2570 - accuracy: 0.6277 - val_loss: 0.2628 - val_accuracy: 0.6105\n",
            "Epoch 154/200\n",
            "448/448 - 20s - loss: 0.2566 - accuracy: 0.6279 - val_loss: 0.2616 - val_accuracy: 0.6155\n",
            "Epoch 155/200\n",
            "448/448 - 20s - loss: 0.2559 - accuracy: 0.6255 - val_loss: 0.2614 - val_accuracy: 0.6177\n",
            "Epoch 156/200\n",
            "448/448 - 20s - loss: 0.2559 - accuracy: 0.6303 - val_loss: 0.2625 - val_accuracy: 0.6121\n",
            "Epoch 157/200\n",
            "448/448 - 19s - loss: 0.2562 - accuracy: 0.6263 - val_loss: 0.2612 - val_accuracy: 0.6138\n",
            "Epoch 158/200\n",
            "448/448 - 19s - loss: 0.2551 - accuracy: 0.6301 - val_loss: 0.2629 - val_accuracy: 0.6110\n",
            "Epoch 159/200\n",
            "448/448 - 20s - loss: 0.2559 - accuracy: 0.6263 - val_loss: 0.2623 - val_accuracy: 0.6121\n",
            "Epoch 160/200\n",
            "448/448 - 20s - loss: 0.2566 - accuracy: 0.6241 - val_loss: 0.2640 - val_accuracy: 0.6082\n",
            "Epoch 161/200\n",
            "448/448 - 20s - loss: 0.2577 - accuracy: 0.6235 - val_loss: 0.2651 - val_accuracy: 0.6030\n",
            "Epoch 162/200\n",
            "448/448 - 20s - loss: 0.2555 - accuracy: 0.6278 - val_loss: 0.2671 - val_accuracy: 0.6018\n",
            "Epoch 163/200\n",
            "448/448 - 20s - loss: 0.2554 - accuracy: 0.6285 - val_loss: 0.2610 - val_accuracy: 0.6152\n",
            "Epoch 164/200\n",
            "448/448 - 19s - loss: 0.2559 - accuracy: 0.6269 - val_loss: 0.2622 - val_accuracy: 0.6135\n",
            "Epoch 165/200\n",
            "448/448 - 19s - loss: 0.2553 - accuracy: 0.6281 - val_loss: 0.2621 - val_accuracy: 0.6119\n",
            "Epoch 166/200\n",
            "448/448 - 20s - loss: 0.2553 - accuracy: 0.6309 - val_loss: 0.2613 - val_accuracy: 0.6155\n",
            "Epoch 167/200\n",
            "448/448 - 19s - loss: 0.2540 - accuracy: 0.6322 - val_loss: 0.2613 - val_accuracy: 0.6127\n",
            "Epoch 168/200\n",
            "448/448 - 20s - loss: 0.2552 - accuracy: 0.6292 - val_loss: 0.2625 - val_accuracy: 0.6110\n",
            "Epoch 169/200\n",
            "448/448 - 19s - loss: 0.2564 - accuracy: 0.6251 - val_loss: 0.2617 - val_accuracy: 0.6121\n",
            "Epoch 170/200\n",
            "448/448 - 20s - loss: 0.2545 - accuracy: 0.6298 - val_loss: 0.2618 - val_accuracy: 0.6149\n",
            "Epoch 171/200\n",
            "448/448 - 20s - loss: 0.2554 - accuracy: 0.6272 - val_loss: 0.2624 - val_accuracy: 0.6116\n",
            "Epoch 172/200\n",
            "448/448 - 20s - loss: 0.2545 - accuracy: 0.6302 - val_loss: 0.2610 - val_accuracy: 0.6147\n",
            "Epoch 173/200\n",
            "448/448 - 20s - loss: 0.2546 - accuracy: 0.6344 - val_loss: 0.2608 - val_accuracy: 0.6149\n",
            "Epoch 174/200\n",
            "448/448 - 19s - loss: 0.2552 - accuracy: 0.6287 - val_loss: 0.2610 - val_accuracy: 0.6169\n",
            "Epoch 175/200\n",
            "448/448 - 19s - loss: 0.2570 - accuracy: 0.6245 - val_loss: 0.2605 - val_accuracy: 0.6183\n",
            "Epoch 176/200\n",
            "448/448 - 20s - loss: 0.2550 - accuracy: 0.6298 - val_loss: 0.2620 - val_accuracy: 0.6130\n",
            "Epoch 177/200\n",
            "448/448 - 19s - loss: 0.2557 - accuracy: 0.6267 - val_loss: 0.2633 - val_accuracy: 0.6077\n",
            "Epoch 178/200\n",
            "448/448 - 20s - loss: 0.2549 - accuracy: 0.6281 - val_loss: 0.2621 - val_accuracy: 0.6135\n",
            "Epoch 179/200\n",
            "448/448 - 20s - loss: 0.2555 - accuracy: 0.6293 - val_loss: 0.2604 - val_accuracy: 0.6197\n",
            "Epoch 180/200\n",
            "448/448 - 20s - loss: 0.2536 - accuracy: 0.6291 - val_loss: 0.2650 - val_accuracy: 0.6071\n",
            "Epoch 181/200\n",
            "448/448 - 20s - loss: 0.2545 - accuracy: 0.6307 - val_loss: 0.2609 - val_accuracy: 0.6155\n",
            "Epoch 182/200\n",
            "448/448 - 19s - loss: 0.2552 - accuracy: 0.6287 - val_loss: 0.2595 - val_accuracy: 0.6211\n",
            "Epoch 183/200\n",
            "448/448 - 20s - loss: 0.2549 - accuracy: 0.6307 - val_loss: 0.2642 - val_accuracy: 0.6057\n",
            "Epoch 184/200\n",
            "448/448 - 20s - loss: 0.2546 - accuracy: 0.6322 - val_loss: 0.2634 - val_accuracy: 0.6085\n",
            "Epoch 185/200\n",
            "448/448 - 20s - loss: 0.2546 - accuracy: 0.6296 - val_loss: 0.2620 - val_accuracy: 0.6116\n",
            "Epoch 186/200\n",
            "448/448 - 19s - loss: 0.2545 - accuracy: 0.6289 - val_loss: 0.2643 - val_accuracy: 0.6055\n",
            "Epoch 187/200\n",
            "448/448 - 20s - loss: 0.2551 - accuracy: 0.6265 - val_loss: 0.2626 - val_accuracy: 0.6124\n",
            "Epoch 188/200\n",
            "448/448 - 20s - loss: 0.2546 - accuracy: 0.6298 - val_loss: 0.2627 - val_accuracy: 0.6116\n",
            "Epoch 189/200\n",
            "448/448 - 19s - loss: 0.2540 - accuracy: 0.6295 - val_loss: 0.2622 - val_accuracy: 0.6155\n",
            "Epoch 190/200\n",
            "448/448 - 20s - loss: 0.2544 - accuracy: 0.6265 - val_loss: 0.2612 - val_accuracy: 0.6160\n",
            "Epoch 191/200\n",
            "448/448 - 20s - loss: 0.2541 - accuracy: 0.6307 - val_loss: 0.2612 - val_accuracy: 0.6144\n",
            "Epoch 192/200\n",
            "448/448 - 20s - loss: 0.2544 - accuracy: 0.6301 - val_loss: 0.2619 - val_accuracy: 0.6138\n",
            "Epoch 193/200\n",
            "448/448 - 19s - loss: 0.2545 - accuracy: 0.6313 - val_loss: 0.2608 - val_accuracy: 0.6172\n",
            "Epoch 194/200\n",
            "448/448 - 20s - loss: 0.2542 - accuracy: 0.6307 - val_loss: 0.2617 - val_accuracy: 0.6138\n",
            "Epoch 195/200\n",
            "448/448 - 20s - loss: 0.2539 - accuracy: 0.6320 - val_loss: 0.2624 - val_accuracy: 0.6144\n",
            "Epoch 196/200\n",
            "448/448 - 20s - loss: 0.2534 - accuracy: 0.6329 - val_loss: 0.2605 - val_accuracy: 0.6169\n",
            "Epoch 197/200\n",
            "448/448 - 20s - loss: 0.2531 - accuracy: 0.6317 - val_loss: 0.2624 - val_accuracy: 0.6096\n",
            "Epoch 198/200\n",
            "448/448 - 20s - loss: 0.2540 - accuracy: 0.6309 - val_loss: 0.2622 - val_accuracy: 0.6110\n",
            "Epoch 199/200\n",
            "448/448 - 20s - loss: 0.2537 - accuracy: 0.6313 - val_loss: 0.2605 - val_accuracy: 0.6169\n",
            "Epoch 200/200\n",
            "448/448 - 20s - loss: 0.2551 - accuracy: 0.6274 - val_loss: 0.2620 - val_accuracy: 0.6091\n"
          ],
          "name": "stdout"
        }
      ]
    },
    {
      "cell_type": "code",
      "metadata": {
        "id": "c5y3JMYfERbj",
        "outputId": "f58b8213-045e-46f7-c794-208d6d8e6efa",
        "colab": {
          "base_uri": "https://localhost:8080/",
          "height": 295
        }
      },
      "source": [
        "plt.plot(history.history['accuracy'])\n",
        "plt.plot(history.history['val_accuracy'])\n",
        "plt.ylim(.3, 1.0)\n",
        "plt.title('Model accuracy')\n",
        "plt.ylabel('Accuracy')\n",
        "plt.xlabel('Epoch')\n",
        "plt.legend(['Training accuracy', 'Validation accuracy'], loc='lower right')\n",
        "plt.show()"
      ],
      "execution_count": null,
      "outputs": [
        {
          "output_type": "display_data",
          "data": {
            "image/png": "[encoded data removed]",
            "text/plain": [
              "<Figure size 432x288 with 1 Axes>"
            ]
          },
          "metadata": {
            "tags": [],
            "needs_background": "light"
          }
        }
      ]
    },
    {
      "cell_type": "code",
      "metadata": {
        "id": "PhajdgejS3C5",
        "outputId": "4fade84b-009c-4829-dafe-282e643b9bc5",
        "colab": {
          "base_uri": "https://localhost:8080/",
          "height": 51
        }
      },
      "source": [
        "model.evaluate(X_val,y_val)"
      ],
      "execution_count": null,
      "outputs": [
        {
          "output_type": "stream",
          "text": [
            "113/113 [==============================] - 1s 8ms/step - loss: 0.2620 - accuracy: 0.6091\n"
          ],
          "name": "stdout"
        },
        {
          "output_type": "execute_result",
          "data": {
            "text/plain": [
              "[0.2619786858558655, 0.6090832948684692]"
            ]
          },
          "metadata": {
            "tags": []
          },
          "execution_count": 17
        }
      ]
    },
    {
      "cell_type": "code",
      "metadata": {
        "id": "lhIEg0suS4B7",
        "outputId": "2e7630dc-8f77-4d06-c127-087d91c69a3f",
        "colab": {
          "base_uri": "https://localhost:8080/",
          "height": 51
        }
      },
      "source": [
        "model.evaluate(X_test,y_test)"
      ],
      "execution_count": null,
      "outputs": [
        {
          "output_type": "stream",
          "text": [
            "113/113 [==============================] - 1s 8ms/step - loss: 0.2544 - accuracy: 0.6169\n"
          ],
          "name": "stdout"
        },
        {
          "output_type": "execute_result",
          "data": {
            "text/plain": [
              "[0.25442585349082947, 0.6168849468231201]"
            ]
          },
          "metadata": {
            "tags": []
          },
          "execution_count": 18
        }
      ]
    },
    {
      "cell_type": "code",
      "metadata": {
        "id": "dNTo8OxtTY-C",
        "outputId": "4a8ffa04-5a4d-4787-e412-0ff03fc12cd5",
        "colab": {
          "base_uri": "https://localhost:8080/",
          "height": 272
        }
      },
      "source": [
        "# make predictions on the testing set\n",
        "print(\"[INFO] evaluating network...\")\n",
        "predIdxs = model.predict(X_test, batch_size=batch_size)\n",
        "\n",
        "# for each image in the testing set we need to find the index of the\n",
        "# label with corresponding largest predicted probability\n",
        "predIdxs = np.argmax(predIdxs, axis=1)\n",
        "from sklearn.metrics import classification_report\n",
        "target_names =[\"Angry\", \"Disgust\",\"Fear\",\"Happy\",\"Sad\",\"Surprise\",\"Neutral\"]\n",
        "print(classification_report(y_test.argmax(axis=1),\n",
        "                            predIdxs, target_names=target_names))"
      ],
      "execution_count": null,
      "outputs": [
        {
          "output_type": "stream",
          "text": [
            "[INFO] evaluating network...\n",
            "              precision    recall  f1-score   support\n",
            "\n",
            "       Angry       0.55      0.54      0.54       491\n",
            "     Disgust       0.50      0.02      0.04        55\n",
            "        Fear       0.48      0.34      0.40       528\n",
            "       Happy       0.83      0.86      0.85       879\n",
            "         Sad       0.47      0.44      0.45       594\n",
            "    Surprise       0.71      0.75      0.73       416\n",
            "     Neutral       0.53      0.70      0.60       626\n",
            "\n",
            "    accuracy                           0.62      3589\n",
            "   macro avg       0.58      0.52      0.52      3589\n",
            "weighted avg       0.61      0.62      0.61      3589\n",
            "\n"
          ],
          "name": "stdout"
        }
      ]
    }
  ]
}